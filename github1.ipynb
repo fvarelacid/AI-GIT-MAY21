{
 "metadata": {
  "language_info": {
   "codemirror_mode": {
    "name": "ipython",
    "version": 3
   },
   "file_extension": ".py",
   "mimetype": "text/x-python",
   "name": "python",
   "nbconvert_exporter": "python",
   "pygments_lexer": "ipython3",
   "version": 3
  },
  "orig_nbformat": 2
 },
 "nbformat": 4,
 "nbformat_minor": 2,
 "cells": [
  {
   "source": [
    "#This is a calculator that only multiplies\n",
    "\n",
    "x = input(\"First digit: \")\n",
    "y = input(\"Second digit: \")\n",
    "\n",
    "def calculator(x, y):\n",
    "    mult = x * y\n",
    "    return mult\n",
    "\n",
    "calculator()"
   ],
   "cell_type": "code",
   "metadata": {},
   "execution_count": null,
   "outputs": []
  }
 ]
}