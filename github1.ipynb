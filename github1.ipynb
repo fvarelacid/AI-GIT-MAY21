{
 "metadata": {
  "language_info": {
   "codemirror_mode": {
    "name": "ipython",
    "version": 3
   },
   "file_extension": ".py",
   "mimetype": "text/x-python",
   "name": "python",
   "nbconvert_exporter": "python",
   "pygments_lexer": "ipython3",
   "version": "3.8.8"
  },
  "orig_nbformat": 2,
  "kernelspec": {
   "name": "python388jvsc74a57bd0b1e21d487c014a4ee08b2c01296798d41267222f6e1ae8a0062bead66e07b9e9",
   "display_name": "Python 3.8.8 64-bit ('base': conda)"
  }
 },
 "nbformat": 4,
 "nbformat_minor": 2,
 "cells": [
  {
   "source": [
    "#This is a calculator that only multiplies\n",
    "\n",
    "def calculator(x, y):\n",
    "    mult = x * y\n",
    "    return mult\n",
    "\n",
    "calculator(5, 6)"
   ],
   "cell_type": "code",
   "metadata": {},
   "execution_count": 3,
   "outputs": [
    {
     "output_type": "execute_result",
     "data": {
      "text/plain": [
       "30"
      ]
     },
     "metadata": {},
     "execution_count": 3
    }
   ]
  },
  {
   "cell_type": "code",
   "execution_count": 9,
   "metadata": {},
   "outputs": [
    {
     "output_type": "execute_result",
     "data": {
      "text/plain": [
       "4"
      ]
     },
     "metadata": {},
     "execution_count": 9
    }
   ],
   "source": [
    "x = int(input(\"First digit: \"))\n",
    "y = int(input(\"Second digit: \"))\n",
    "z = int(input(\"Second digit: \")\n",
    "\n",
    "def calculator(x, y):\n",
    "    mult = x * y * z\n",
    "    return mult\n",
    "\n",
    "calculator(x, y, z)"
   ]
  },
  {
   "cell_type": "code",
   "execution_count": null,
   "metadata": {},
   "outputs": [],
   "source": []
  }
 ]
}